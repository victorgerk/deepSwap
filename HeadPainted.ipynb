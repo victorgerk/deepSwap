{
  "nbformat": 4,
  "nbformat_minor": 0,
  "metadata": {
    "colab": {
      "provenance": [],
      "mount_file_id": "1rTNMdD4CY67pc-EM4pLhT1rrvArr8R8k",
      "authorship_tag": "ABX9TyN4SWBHJfFjaXL5gqzrSEYX",
      "include_colab_link": true
    },
    "kernelspec": {
      "name": "python3",
      "display_name": "Python 3"
    },
    "language_info": {
      "name": "python"
    }
  },
  "cells": [
    {
      "cell_type": "markdown",
      "metadata": {
        "id": "view-in-github",
        "colab_type": "text"
      },
      "source": [
        "<a href=\"https://colab.research.google.com/github/victorgerk/deepSwap/blob/master/HeadPainted.ipynb\" target=\"_parent\"><img src=\"https://colab.research.google.com/assets/colab-badge.svg\" alt=\"Open In Colab\"/></a>"
      ]
    },
    {
      "cell_type": "code",
      "execution_count": 2,
      "metadata": {
        "colab": {
          "base_uri": "https://localhost:8080/"
        },
        "id": "iWfzCyCSwA22",
        "outputId": "24c109a9-8dab-4e4f-d4ea-e7c307ce351e"
      },
      "outputs": [
        {
          "output_type": "stream",
          "name": "stdout",
          "text": [
            "fatal: destination path 'Painted-Skin' already exists and is not an empty directory.\n"
          ]
        }
      ],
      "source": [
        "!git clone https://github.com/BlackThompson/Painted-Skin.git"
      ]
    },
    {
      "cell_type": "code",
      "source": [
        "%cd painted_skin"
      ],
      "metadata": {
        "colab": {
          "base_uri": "https://localhost:8080/"
        },
        "id": "jFx8pq-ywpEx",
        "outputId": "f1961217-3ff9-47ba-f8b0-6504e3366457"
      },
      "execution_count": 3,
      "outputs": [
        {
          "output_type": "stream",
          "name": "stdout",
          "text": [
            "[Errno 2] No such file or directory: 'painted_skin'\n",
            "/content\n"
          ]
        }
      ]
    },
    {
      "cell_type": "code",
      "source": [
        "!pip install -r /content/Painted-Skin/requirements.txt"
      ],
      "metadata": {
        "id": "2wz84jIawx9E"
      },
      "execution_count": null,
      "outputs": []
    },
    {
      "cell_type": "code",
      "source": [
        "!pip install modelscope natsort moviepy"
      ],
      "metadata": {
        "id": "5B1le-C81gpS"
      },
      "execution_count": null,
      "outputs": []
    },
    {
      "cell_type": "code",
      "source": [
        "!wget https://ffmpeg.org/releases/ffmpeg-7.0.1.tar.x"
      ],
      "metadata": {
        "id": "EQmDRSDvyc3d"
      },
      "execution_count": null,
      "outputs": []
    },
    {
      "cell_type": "code",
      "source": [
        "!tar -xf /content/ffmpeg-7.0.1.tar.xz\n",
        "%cd /content/ffmpeg-7.0.1"
      ],
      "metadata": {
        "colab": {
          "base_uri": "https://localhost:8080/"
        },
        "id": "nKxDmqTp2fj8",
        "outputId": "34b7e616-f347-4ce5-fa46-f234dd13ec23"
      },
      "execution_count": 18,
      "outputs": [
        {
          "output_type": "stream",
          "name": "stdout",
          "text": [
            "/content/ffmpeg-7.0.1\n"
          ]
        }
      ]
    },
    {
      "cell_type": "code",
      "source": [
        "!apt-get update\n",
        "!apt-get install -y wget tar nasm yasm\n",
        "!./configure --prefix=/usr/local\n",
        "!make\n",
        "!make install"
      ],
      "metadata": {
        "id": "2YWpusEy3rsq"
      },
      "execution_count": null,
      "outputs": []
    },
    {
      "cell_type": "code",
      "source": [
        "!cp /usr/local/bin/ffmpeg /bin/"
      ],
      "metadata": {
        "id": "qEVEGATY4JDH"
      },
      "execution_count": 21,
      "outputs": []
    },
    {
      "cell_type": "code",
      "source": [
        "!python /content/Painted-Skin/gradio_UI.py"
      ],
      "metadata": {
        "id": "3LSbeizVxYq_"
      },
      "execution_count": null,
      "outputs": []
    }
  ]
}